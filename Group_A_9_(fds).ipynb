{
  "nbformat": 4,
  "nbformat_minor": 0,
  "metadata": {
    "colab": {
      "name": "Group A-9 (fds).ipynb",
      "provenance": [],
      "collapsed_sections": [],
      "authorship_tag": "ABX9TyO7MRO4oJ/LqT2i1iX43eC9"
    },
    "kernelspec": {
      "name": "python3",
      "display_name": "Python 3"
    },
    "language_info": {
      "name": "python"
    }
  },
  "cells": [
    {
      "cell_type": "code",
      "metadata": {
        "colab": {
          "base_uri": "https://localhost:8080/"
        },
        "id": "UO4s7rkudcIq",
        "outputId": "12d65382-ffcf-4e02-a61e-66a8ddfb543a"
      },
      "source": [
        "m=int(input('enter no of row: '))\n",
        "n=int(input('enter no of col: '))\n",
        "\n",
        "a=[]\n",
        "b=[]\n",
        "d=[]\n",
        "    \n",
        "for i in range(m):\n",
        "    col = []\n",
        "    for j in range(n):\n",
        "        num=int(input('Enter the numbers: '))\n",
        "        col.append(num)\n",
        "    a.append(col)\n",
        "print(a)\n",
        "\n",
        "for i in range(m):\n",
        "    col = []\n",
        "    for j in range(n):\n",
        "        num=int(input('Enter the numbers: '))\n",
        "        col.append(num)\n",
        "    b.append(col)\n",
        "print(b)\n",
        "\n",
        "for i in range(m):\n",
        "    col=[]\n",
        "    for j in range(n):\n",
        "        col.append(0)\n",
        "        d.append(col)\n",
        "def add():\n",
        "\n",
        "            for i in range (m):\n",
        "                for j in range(n):\n",
        "                        d[i][j]=a[i][j]+b[i][j]\n",
        "            print(\"the sum is: \",d)\n",
        "def sub():\n",
        "            for i in range (m):\n",
        "                for j in range(n):\n",
        "                        d[i][j]=a[i][j]-b[i][j]\n",
        "            print(\"the diff is: \",d)\n",
        "def multiply():\n",
        "        for i in range(len(a)):  \n",
        "            for j in range(len(b[0])): \n",
        "                for k in range(len(b)):\n",
        "                    d[i][j]+=(a[i][k] *b[k][j]  )\n",
        "        print(\"the multiplication is: \",d)\n",
        "def division():\n",
        "    for i in range(len(a)):\n",
        "        for j in range(len(b[0])):\n",
        "            d[i][j]=a[i][j]/b[i][j]\n",
        "    print(\"the division is: \",d)\n",
        "            \n",
        "add()      \n",
        "sub()\n",
        "multiply()\n",
        "division()"
      ],
      "execution_count": null,
      "outputs": [
        {
          "output_type": "stream",
          "name": "stdout",
          "text": [
            "enter m: 2\n",
            "enter n: 2\n",
            "Enter the numbers: 1\n",
            "Enter the numbers: 2\n",
            "Enter the numbers: 3\n",
            "Enter the numbers: 4\n",
            "[[1, 2], [3, 4]]\n",
            "Enter the numbers: 4\n",
            "Enter the numbers: 3\n",
            "Enter the numbers: 2\n",
            "Enter the numbers: 1\n",
            "[[4, 3], [2, 1]]\n",
            "the sum is:  [[5, 5], [5, 5], [0, 0], [0, 0]]\n",
            "the diff is:  [[1, 3], [1, 3], [0, 0], [0, 0]]\n",
            "the multiplication is:  [[29, 21], [29, 21], [0, 0], [0, 0]]\n",
            "the division is:  [[1.5, 4.0], [1.5, 4.0], [0, 0], [0, 0]]\n"
          ]
        }
      ]
    }
  ]
}