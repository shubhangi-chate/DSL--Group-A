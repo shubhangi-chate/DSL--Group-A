{
  "nbformat": 4,
  "nbformat_minor": 0,
  "metadata": {
    "colab": {
      "name": "Group A-5 (fds).ipynb",
      "provenance": [],
      "collapsed_sections": [],
      "authorship_tag": "ABX9TyN535RekBlaK92SwFGuE6PE"
    },
    "kernelspec": {
      "name": "python3",
      "display_name": "Python 3"
    },
    "language_info": {
      "name": "python"
    }
  },
  "cells": [
    {
      "cell_type": "code",
      "metadata": {
        "colab": {
          "base_uri": "https://localhost:8080/"
        },
        "id": "0FncsvBfEB2M",
        "outputId": "33f897ab-03dd-4339-bb28-6cfb52a4095c"
      },
      "source": [
        "s = input(\"Enter string: \")\n",
        "word = input(\"Word: \")\n",
        "def length_str(s):\n",
        "    count = 0\n",
        "    for _ in s:\n",
        "        count=count+1\n",
        "    return count\n",
        "print(f\"Length of word is: {length_str(word)} \")\n",
        "length_str(s)\n",
        "\n",
        "def longest_len(s):\n",
        "    l = s.split()\n",
        "    count = 0\n",
        "    temp = l[0]\n",
        "    for i in s:\n",
        "        if(len(i) > count):\n",
        "            count = len(i)\n",
        "            temp = i\n",
        "    print(\"Word with longest length is: \",temp)\n",
        "    return(temp, count)\n",
        "longest_len(s) \n",
        "\n",
        "def check_palindrome(s):\n",
        "    if s == s[::-1]:\n",
        "        return True\n",
        "    return False\n",
        "print(f\"Given word is palindrome or not: {check_palindrome(word)}\")\n",
        "check_palindrome(s)\n",
        "\n",
        "def appearance(s, subs):\n",
        "    if subs in s:\n",
        "        s = s.split(subs)\n",
        "        return len(s[0])\n",
        "print(f\"Index of the first appearance of the substring is: {appearance(s, word)}\")\n",
        "appearance(s, word)\n"
      ],
      "execution_count": 2,
      "outputs": [
        {
          "output_type": "stream",
          "name": "stdout",
          "text": [
            "Enter string: shubhangilaxmanchate\n",
            "Word: chate\n",
            "Length of word is: 5 \n",
            "Word with longest length is:  s\n",
            "Given chate is palindrome or not: False\n",
            "Index of the first appearance of the substring is: 15\n"
          ]
        },
        {
          "output_type": "execute_result",
          "data": {
            "text/plain": [
              "15"
            ]
          },
          "metadata": {},
          "execution_count": 2
        }
      ]
    },
    {
      "cell_type": "code",
      "metadata": {
        "id": "ET3pxqOvEapY"
      },
      "source": [
        ""
      ],
      "execution_count": null,
      "outputs": []
    }
  ]
}