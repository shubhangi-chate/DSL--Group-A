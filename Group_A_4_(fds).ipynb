{
  "nbformat": 4,
  "nbformat_minor": 0,
  "metadata": {
    "colab": {
      "name": "Group A-4 (fds).ipynb",
      "provenance": [],
      "collapsed_sections": [],
      "authorship_tag": "ABX9TyOkNOUzSMHEPTcmvlYmDsd2"
    },
    "kernelspec": {
      "name": "python3",
      "display_name": "Python 3"
    },
    "language_info": {
      "name": "python"
    }
  },
  "cells": [
    {
      "cell_type": "code",
      "metadata": {
        "colab": {
          "base_uri": "https://localhost:8080/"
        },
        "id": "HFQZb0HL95mQ",
        "outputId": "1c4d2268-83fc-48a0-a9d4-c16b63aff7a3"
      },
      "source": [
        "totalAmount = 0\n",
        "\n",
        "while True:\n",
        "  type =input (\"Enter transaction type (DEPOSIT==D OR WITHDRAW==W) \")\n",
        "  amount = int(input(\"Enter amount\"))\n",
        "  \n",
        "  if type==\"D\":\n",
        "    totalAmount += amount\n",
        "  elif type==\"W\":\n",
        "    if amount>totalAmount:\n",
        "      print (\"amount not sufficient in bank\")\n",
        "    else:\n",
        "      totalAmount -= amount\n",
        "  else:\n",
        "    pass\n",
        "\n",
        "  str1 =input (\"You want to continue (Y for yes) : \")\n",
        "  if not (str1 ==\"Y\") :\n",
        "    break\n",
        "print(\"Total amount after withdraw and deposit: \", totalAmount)"
      ],
      "execution_count": 4,
      "outputs": [
        {
          "output_type": "stream",
          "name": "stdout",
          "text": [
            "Enter transaction type (DEPOSIT==D OR WITHDRAW==W) D\n",
            "Enter amount300\n",
            "You want to continue (Y for yes) : Y\n",
            "Enter transaction type (DEPOSIT==D OR WITHDRAW==W) D\n",
            "Enter amount300\n",
            "You want to continue (Y for yes) : Y\n",
            "Enter transaction type (DEPOSIT==D OR WITHDRAW==W) W\n",
            "Enter amount200\n",
            "You want to continue (Y for yes) : Y\n",
            "Enter transaction type (DEPOSIT==D OR WITHDRAW==W) D\n",
            "Enter amount100\n",
            "You want to continue (Y for yes) : N\n",
            "Total amount after withdraw and deposit:  500\n"
          ]
        }
      ]
    },
    {
      "cell_type": "code",
      "metadata": {
        "id": "feGtXMUA97HE"
      },
      "source": [
        ""
      ],
      "execution_count": null,
      "outputs": []
    }
  ]
}