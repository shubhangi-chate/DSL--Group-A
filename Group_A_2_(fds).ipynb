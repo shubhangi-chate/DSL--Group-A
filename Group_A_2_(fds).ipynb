{
  "nbformat": 4,
  "nbformat_minor": 0,
  "metadata": {
    "colab": {
      "name": "Group A-2 (fds).ipynb",
      "provenance": [],
      "collapsed_sections": [],
      "authorship_tag": "ABX9TyMsKGE2ZCxHspgeGe6yB+v5"
    },
    "kernelspec": {
      "name": "python3",
      "display_name": "Python 3"
    },
    "language_info": {
      "name": "python"
    }
  },
  "cells": [
    {
      "cell_type": "code",
      "metadata": {
        "colab": {
          "base_uri": "https://localhost:8080/"
        },
        "id": "9R_7Xxmg-VqI",
        "outputId": "53db9f60-669d-4fa4-85b5-3003f3f22f28"
      },
      "source": [
        "Marksofstud=[]\n",
        "Noofstud=int(input(\"Enter the no. of students: \"))\n",
        "for i in range(Noofstud):\n",
        "    marks=int(input(f\"Enter marks of student {i+1}:\"))\n",
        "    Marksofstud.append(marks)\n",
        "\n",
        "def average(Marksofstud):\n",
        "    sum = 0\n",
        "    count=0\n",
        "    for i in range(len(Marksofstud)):\n",
        "        sum=sum+Marksofstud[i]\n",
        "        count+=1\n",
        "        average = sum/count \n",
        "    \n",
        "    print(\"Total marks of student =\",sum)\n",
        "    print(\"average marks of student =\",average)\n",
        "average(Marksofstud)\n",
        "\n",
        "def max():\n",
        "    max_value = 0 \n",
        "    if i !=-999:\n",
        "        for num in Marksofstud:\n",
        "            if (max_value is None or num > max_value):\n",
        "                max_value = num\n",
        "    print('The max marks is:', max_value)\n",
        "\n",
        "def min():\n",
        "    mini = Marksofstud[0]\n",
        "    for i in range(len(Marksofstud)):\n",
        "        if Marksofstud[i] < mini:\n",
        "            mini = Marksofstud[i] \n",
        "    print(\"The least marks is: \",mini)\n",
        "max()\n",
        "min()\n",
        "\n",
        "def absentcount(Marksofstud):\n",
        "    count=0\n",
        "    for i in range(len(Marksofstud)):\n",
        "        if Marksofstud[i]==-1:\n",
        "            count+=1\n",
        "    print(\"absent count is: \",count)    \n",
        "    return(count)\n",
        "absentcount(Marksofstud)\n",
        "\n",
        "def maxFrequency(Marksofstud):\n",
        "    i=0\n",
        "    Max=0\n",
        "    for j in Marksofstud:\n",
        "        if (Marksofstud.index(j)==i):\n",
        "            print(j,\"  \",Marksofstud.count(j))\n",
        "            if Marksofstud.count(j)>Max:\n",
        "                Max=Marksofstud.count(j)\n",
        "                mark=j\n",
        "        i=i+1\n",
        "    print(\"max frequency:\")\n",
        "    return(mark,Max)\n",
        "maxFrequency(Marksofstud)"
      ],
      "execution_count": 5,
      "outputs": [
        {
          "output_type": "stream",
          "name": "stdout",
          "text": [
            "Enter the no. of students: 10\n",
            "Enter marks of student 1:79\n",
            "Enter marks of student 2:88\n",
            "Enter marks of student 3:96\n",
            "Enter marks of student 4:79\n",
            "Enter marks of student 5:91\n",
            "Enter marks of student 6:81\n",
            "Enter marks of student 7:75\n",
            "Enter marks of student 8:88\n",
            "Enter marks of student 9:79\n",
            "Enter marks of student 10:88\n",
            "Total marks of student = 844\n",
            "average marks of student = 84.4\n",
            "The max marks is: 96\n",
            "The least marks is:  75\n",
            "absent count is:  0\n",
            "79    3\n",
            "88    3\n",
            "96    1\n",
            "91    1\n",
            "81    1\n",
            "75    1\n",
            "max frequency:\n"
          ]
        },
        {
          "output_type": "execute_result",
          "data": {
            "text/plain": [
              "(79, 3)"
            ]
          },
          "metadata": {},
          "execution_count": 5
        }
      ]
    },
    {
      "cell_type": "code",
      "metadata": {
        "id": "2ryXWhSN-bpA"
      },
      "source": [
        ""
      ],
      "execution_count": null,
      "outputs": []
    }
  ]
}